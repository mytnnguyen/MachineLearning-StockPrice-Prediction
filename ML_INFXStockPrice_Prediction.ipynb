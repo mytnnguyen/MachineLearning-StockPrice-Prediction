{
  "cells": [
    {
      "cell_type": "markdown",
      "metadata": {
        "id": "view-in-github",
        "colab_type": "text"
      },
      "source": [
        "<a href=\"https://colab.research.google.com/github/mytnnguyen/MachineLearning-StockPrice-Prediction/blob/main/ML_INFXStockPrice_Prediction.ipynb\" target=\"_parent\"><img src=\"https://colab.research.google.com/assets/colab-badge.svg\" alt=\"Open In Colab\"/></a>"
      ]
    },
    {
      "cell_type": "markdown",
      "metadata": {
        "id": "IHNbswNBMkY8"
      },
      "source": [
        "# Project Machine Learning for Stock Price prediction\n",
        "\n",
        "## Learning Objectives:\n",
        "\n",
        "- Get historical stock prices from Yahoo!Finance\n",
        "\n",
        "- Use multiple machine learning models to predict stock prices\n",
        "\n",
        "*Notes*: We will analyse stock prices of Infineon Technologies AG (Germany)"
      ]
    },
    {
      "cell_type": "markdown",
      "metadata": {
        "id": "L1zmCba-MkY9"
      },
      "source": [
        "## 1. Retrieve Stock Prices"
      ]
    },
    {
      "cell_type": "code",
      "execution_count": 1,
      "metadata": {
        "id": "W134g_0EMkY-"
      },
      "outputs": [],
      "source": [
        "# Import libraries\n",
        "import pandas as pd\n",
        "import numpy as np\n",
        "import yfinance as yf\n",
        "import matplotlib.pyplot as plt\n",
        "import datetime as dt\n",
        "import os"
      ]
    },
    {
      "cell_type": "code",
      "source": [
        "plt.style.available"
      ],
      "metadata": {
        "id": "knOexuS1lT2s"
      },
      "execution_count": null,
      "outputs": []
    },
    {
      "cell_type": "code",
      "source": [
        "plt.style.use('fivethirtyeight')"
      ],
      "metadata": {
        "id": "L9uEAoPqllkM"
      },
      "execution_count": 83,
      "outputs": []
    },
    {
      "cell_type": "code",
      "execution_count": 2,
      "metadata": {
        "colab": {
          "base_uri": "https://localhost:8080/",
          "height": 472
        },
        "id": "XJqEhxODMkY-",
        "outputId": "6fa95714-9675-4756-b5bf-74b5daa86344"
      },
      "outputs": [
        {
          "output_type": "stream",
          "name": "stdout",
          "text": [
            "\r[*********************100%***********************]  1 of 1 completed\n"
          ]
        },
        {
          "output_type": "execute_result",
          "data": {
            "text/plain": [
              "                 Open       High        Low      Close  Adj Close    Volume\n",
              "Date                                                                       \n",
              "2000-03-13  67.313232  75.774193  58.629375  62.641422  51.925529  21611471\n",
              "2000-03-14  63.657810  71.325279  63.657810  70.344551  58.310917  10744802\n",
              "2000-03-15  68.561424  68.606003  63.122871  65.119980  53.980091   6567106\n",
              "2000-03-16  65.298294  65.298294  62.329376  62.677086  51.955090   4547656\n",
              "2000-03-17  64.905998  66.234436  62.908894  63.746967  52.841957   2333220\n",
              "...               ...        ...        ...        ...        ...       ...\n",
              "2023-05-15  33.825001  34.014999  33.389999  33.445000  33.445000   2051794\n",
              "2023-05-16  33.775002  34.400002  33.735001  34.200001  34.200001   3275712\n",
              "2023-05-17  34.060001  34.470001  33.910000  34.404999  34.404999   2302952\n",
              "2023-05-18  34.830002  35.849998  34.775002  35.764999  35.764999   3138377\n",
              "2023-05-19  35.924999  36.375000  35.849998  35.955002  35.955002   4429790\n",
              "\n",
              "[5928 rows x 6 columns]"
            ],
            "text/html": [
              "\n",
              "  <div id=\"df-1500a4e0-ffa1-48c2-b2a3-5180872f2c97\">\n",
              "    <div class=\"colab-df-container\">\n",
              "      <div>\n",
              "<style scoped>\n",
              "    .dataframe tbody tr th:only-of-type {\n",
              "        vertical-align: middle;\n",
              "    }\n",
              "\n",
              "    .dataframe tbody tr th {\n",
              "        vertical-align: top;\n",
              "    }\n",
              "\n",
              "    .dataframe thead th {\n",
              "        text-align: right;\n",
              "    }\n",
              "</style>\n",
              "<table border=\"1\" class=\"dataframe\">\n",
              "  <thead>\n",
              "    <tr style=\"text-align: right;\">\n",
              "      <th></th>\n",
              "      <th>Open</th>\n",
              "      <th>High</th>\n",
              "      <th>Low</th>\n",
              "      <th>Close</th>\n",
              "      <th>Adj Close</th>\n",
              "      <th>Volume</th>\n",
              "    </tr>\n",
              "    <tr>\n",
              "      <th>Date</th>\n",
              "      <th></th>\n",
              "      <th></th>\n",
              "      <th></th>\n",
              "      <th></th>\n",
              "      <th></th>\n",
              "      <th></th>\n",
              "    </tr>\n",
              "  </thead>\n",
              "  <tbody>\n",
              "    <tr>\n",
              "      <th>2000-03-13</th>\n",
              "      <td>67.313232</td>\n",
              "      <td>75.774193</td>\n",
              "      <td>58.629375</td>\n",
              "      <td>62.641422</td>\n",
              "      <td>51.925529</td>\n",
              "      <td>21611471</td>\n",
              "    </tr>\n",
              "    <tr>\n",
              "      <th>2000-03-14</th>\n",
              "      <td>63.657810</td>\n",
              "      <td>71.325279</td>\n",
              "      <td>63.657810</td>\n",
              "      <td>70.344551</td>\n",
              "      <td>58.310917</td>\n",
              "      <td>10744802</td>\n",
              "    </tr>\n",
              "    <tr>\n",
              "      <th>2000-03-15</th>\n",
              "      <td>68.561424</td>\n",
              "      <td>68.606003</td>\n",
              "      <td>63.122871</td>\n",
              "      <td>65.119980</td>\n",
              "      <td>53.980091</td>\n",
              "      <td>6567106</td>\n",
              "    </tr>\n",
              "    <tr>\n",
              "      <th>2000-03-16</th>\n",
              "      <td>65.298294</td>\n",
              "      <td>65.298294</td>\n",
              "      <td>62.329376</td>\n",
              "      <td>62.677086</td>\n",
              "      <td>51.955090</td>\n",
              "      <td>4547656</td>\n",
              "    </tr>\n",
              "    <tr>\n",
              "      <th>2000-03-17</th>\n",
              "      <td>64.905998</td>\n",
              "      <td>66.234436</td>\n",
              "      <td>62.908894</td>\n",
              "      <td>63.746967</td>\n",
              "      <td>52.841957</td>\n",
              "      <td>2333220</td>\n",
              "    </tr>\n",
              "    <tr>\n",
              "      <th>...</th>\n",
              "      <td>...</td>\n",
              "      <td>...</td>\n",
              "      <td>...</td>\n",
              "      <td>...</td>\n",
              "      <td>...</td>\n",
              "      <td>...</td>\n",
              "    </tr>\n",
              "    <tr>\n",
              "      <th>2023-05-15</th>\n",
              "      <td>33.825001</td>\n",
              "      <td>34.014999</td>\n",
              "      <td>33.389999</td>\n",
              "      <td>33.445000</td>\n",
              "      <td>33.445000</td>\n",
              "      <td>2051794</td>\n",
              "    </tr>\n",
              "    <tr>\n",
              "      <th>2023-05-16</th>\n",
              "      <td>33.775002</td>\n",
              "      <td>34.400002</td>\n",
              "      <td>33.735001</td>\n",
              "      <td>34.200001</td>\n",
              "      <td>34.200001</td>\n",
              "      <td>3275712</td>\n",
              "    </tr>\n",
              "    <tr>\n",
              "      <th>2023-05-17</th>\n",
              "      <td>34.060001</td>\n",
              "      <td>34.470001</td>\n",
              "      <td>33.910000</td>\n",
              "      <td>34.404999</td>\n",
              "      <td>34.404999</td>\n",
              "      <td>2302952</td>\n",
              "    </tr>\n",
              "    <tr>\n",
              "      <th>2023-05-18</th>\n",
              "      <td>34.830002</td>\n",
              "      <td>35.849998</td>\n",
              "      <td>34.775002</td>\n",
              "      <td>35.764999</td>\n",
              "      <td>35.764999</td>\n",
              "      <td>3138377</td>\n",
              "    </tr>\n",
              "    <tr>\n",
              "      <th>2023-05-19</th>\n",
              "      <td>35.924999</td>\n",
              "      <td>36.375000</td>\n",
              "      <td>35.849998</td>\n",
              "      <td>35.955002</td>\n",
              "      <td>35.955002</td>\n",
              "      <td>4429790</td>\n",
              "    </tr>\n",
              "  </tbody>\n",
              "</table>\n",
              "<p>5928 rows × 6 columns</p>\n",
              "</div>\n",
              "      <button class=\"colab-df-convert\" onclick=\"convertToInteractive('df-1500a4e0-ffa1-48c2-b2a3-5180872f2c97')\"\n",
              "              title=\"Convert this dataframe to an interactive table.\"\n",
              "              style=\"display:none;\">\n",
              "        \n",
              "  <svg xmlns=\"http://www.w3.org/2000/svg\" height=\"24px\"viewBox=\"0 0 24 24\"\n",
              "       width=\"24px\">\n",
              "    <path d=\"M0 0h24v24H0V0z\" fill=\"none\"/>\n",
              "    <path d=\"M18.56 5.44l.94 2.06.94-2.06 2.06-.94-2.06-.94-.94-2.06-.94 2.06-2.06.94zm-11 1L8.5 8.5l.94-2.06 2.06-.94-2.06-.94L8.5 2.5l-.94 2.06-2.06.94zm10 10l.94 2.06.94-2.06 2.06-.94-2.06-.94-.94-2.06-.94 2.06-2.06.94z\"/><path d=\"M17.41 7.96l-1.37-1.37c-.4-.4-.92-.59-1.43-.59-.52 0-1.04.2-1.43.59L10.3 9.45l-7.72 7.72c-.78.78-.78 2.05 0 2.83L4 21.41c.39.39.9.59 1.41.59.51 0 1.02-.2 1.41-.59l7.78-7.78 2.81-2.81c.8-.78.8-2.07 0-2.86zM5.41 20L4 18.59l7.72-7.72 1.47 1.35L5.41 20z\"/>\n",
              "  </svg>\n",
              "      </button>\n",
              "      \n",
              "  <style>\n",
              "    .colab-df-container {\n",
              "      display:flex;\n",
              "      flex-wrap:wrap;\n",
              "      gap: 12px;\n",
              "    }\n",
              "\n",
              "    .colab-df-convert {\n",
              "      background-color: #E8F0FE;\n",
              "      border: none;\n",
              "      border-radius: 50%;\n",
              "      cursor: pointer;\n",
              "      display: none;\n",
              "      fill: #1967D2;\n",
              "      height: 32px;\n",
              "      padding: 0 0 0 0;\n",
              "      width: 32px;\n",
              "    }\n",
              "\n",
              "    .colab-df-convert:hover {\n",
              "      background-color: #E2EBFA;\n",
              "      box-shadow: 0px 1px 2px rgba(60, 64, 67, 0.3), 0px 1px 3px 1px rgba(60, 64, 67, 0.15);\n",
              "      fill: #174EA6;\n",
              "    }\n",
              "\n",
              "    [theme=dark] .colab-df-convert {\n",
              "      background-color: #3B4455;\n",
              "      fill: #D2E3FC;\n",
              "    }\n",
              "\n",
              "    [theme=dark] .colab-df-convert:hover {\n",
              "      background-color: #434B5C;\n",
              "      box-shadow: 0px 1px 3px 1px rgba(0, 0, 0, 0.15);\n",
              "      filter: drop-shadow(0px 1px 2px rgba(0, 0, 0, 0.3));\n",
              "      fill: #FFFFFF;\n",
              "    }\n",
              "  </style>\n",
              "\n",
              "      <script>\n",
              "        const buttonEl =\n",
              "          document.querySelector('#df-1500a4e0-ffa1-48c2-b2a3-5180872f2c97 button.colab-df-convert');\n",
              "        buttonEl.style.display =\n",
              "          google.colab.kernel.accessAllowed ? 'block' : 'none';\n",
              "\n",
              "        async function convertToInteractive(key) {\n",
              "          const element = document.querySelector('#df-1500a4e0-ffa1-48c2-b2a3-5180872f2c97');\n",
              "          const dataTable =\n",
              "            await google.colab.kernel.invokeFunction('convertToInteractive',\n",
              "                                                     [key], {});\n",
              "          if (!dataTable) return;\n",
              "\n",
              "          const docLinkHtml = 'Like what you see? Visit the ' +\n",
              "            '<a target=\"_blank\" href=https://colab.research.google.com/notebooks/data_table.ipynb>data table notebook</a>'\n",
              "            + ' to learn more about interactive tables.';\n",
              "          element.innerHTML = '';\n",
              "          dataTable['output_type'] = 'display_data';\n",
              "          await google.colab.output.renderOutput(dataTable, element);\n",
              "          const docLink = document.createElement('div');\n",
              "          docLink.innerHTML = docLinkHtml;\n",
              "          element.appendChild(docLink);\n",
              "        }\n",
              "      </script>\n",
              "    </div>\n",
              "  </div>\n",
              "  "
            ]
          },
          "metadata": {},
          "execution_count": 2
        }
      ],
      "source": [
        "# Retrieve stock price of Infineon\n",
        "ifx_df = yf.download(\"IFX.DE\", start = dt.datetime(2000,1,1), end = dt.datetime(2023,5,20))\n",
        "\n",
        "# See the data\n",
        "ifx_df"
      ]
    },
    {
      "cell_type": "code",
      "execution_count": null,
      "metadata": {
        "id": "lUmMOis8MkY_"
      },
      "outputs": [],
      "source": [
        "# Save data\n",
        "#print(os.getcwd())\n",
        "ifx_df.to_csv('./data/stockmarket/infineon_prices_270523.csv', sep = ';', index = False)"
      ]
    },
    {
      "cell_type": "code",
      "execution_count": 84,
      "metadata": {
        "colab": {
          "base_uri": "https://localhost:8080/",
          "height": 520
        },
        "id": "T2Xo0OXFMkY_",
        "outputId": "311caa1c-d4b9-4c2c-ec81-dbdb131c37c9"
      },
      "outputs": [
        {
          "output_type": "display_data",
          "data": {
            "text/plain": [
              "<Figure size 1200x500 with 1 Axes>"
            ],
            "image/png": "[encoded data removed]"
          },
          "metadata": {}
        }
      ],
      "source": [
        "# Plot Close price over time\n",
        "plt.figure(figsize = (12, 5))\n",
        "plt.plot(ifx_df.Close, linewidth = 1.8, color = 'teal')\n",
        "plt.title(\"Close Price of Infineon from 2000-2023\")\n",
        "plt.ylabel(\"Price in Euro (€)\")\n",
        "plt.xlabel(\"Date\")\n",
        "plt.show();"
      ]
    },
    {
      "cell_type": "markdown",
      "metadata": {
        "id": "9JBOf7bBMkZA"
      },
      "source": [
        "## 2. Machine Learning for stock price prediction"
      ]
    },
    {
      "cell_type": "markdown",
      "metadata": {
        "id": "8F2PSSQUMkZA"
      },
      "source": [
        "### 2.0. Pre-processing data"
      ]
    },
    {
      "cell_type": "code",
      "execution_count": 4,
      "metadata": {
        "id": "4EEAFZykMkZA"
      },
      "outputs": [],
      "source": [
        "# Import libraries\n",
        "from sklearn.preprocessing import StandardScaler"
      ]
    },
    {
      "cell_type": "code",
      "execution_count": 21,
      "metadata": {
        "id": "2UzYcaN5MkZA"
      },
      "outputs": [],
      "source": [
        "# Split training and testing sets\n",
        "train_size = int(len(ifx_df) * 0.8)  # 90% for training, 10% for testing\n",
        "train_df = ifx_df[:train_size]\n",
        "test_df = ifx_df[train_size:]"
      ]
    },
    {
      "cell_type": "code",
      "execution_count": 22,
      "metadata": {
        "colab": {
          "base_uri": "https://localhost:8080/"
        },
        "id": "anFdZYS2MkZA",
        "outputId": "4cbacbd0-4093-4771-e951-66dfed16a21a"
      },
      "outputs": [
        {
          "output_type": "stream",
          "name": "stdout",
          "text": [
            "(4742, 6)\n",
            "(1186, 6)\n"
          ]
        }
      ],
      "source": [
        "print(train_df.shape)\n",
        "print(test_df.shape)"
      ]
    },
    {
      "cell_type": "code",
      "execution_count": 23,
      "metadata": {
        "id": "Aj4WcZIVMkZB"
      },
      "outputs": [],
      "source": [
        "# Create features and target\n",
        "features = ['Open', 'High', 'Low', 'Volume']\n",
        "target = 'Close'"
      ]
    },
    {
      "cell_type": "markdown",
      "metadata": {
        "id": "9bsF8ZQoMkZB"
      },
      "source": [
        "#### Scaling the features\n",
        "Standardisation is to improve the numerical stability of the model and increase training speed."
      ]
    },
    {
      "cell_type": "code",
      "execution_count": 8,
      "metadata": {
        "id": "-b-2rNCzMkZB"
      },
      "outputs": [],
      "source": [
        "# Scale features of training and testing sets\n",
        "scale = StandardScaler()\n",
        "X_train = scale.fit_transform(train_df[features])\n",
        "X_test = scale.transform(test_df[features])"
      ]
    },
    {
      "cell_type": "code",
      "execution_count": 9,
      "metadata": {
        "id": "oVMrqQxHMkZB"
      },
      "outputs": [],
      "source": [
        "y_train = train_df[target]\n",
        "y_test = test_df[target]"
      ]
    },
    {
      "cell_type": "markdown",
      "metadata": {
        "id": "Av7MlIzKMkZB"
      },
      "source": [
        "### 2.1. RandomForest"
      ]
    },
    {
      "cell_type": "markdown",
      "metadata": {
        "id": "_9sJvY9oMkZB"
      },
      "source": [
        "#### Set-up Random Forest Model"
      ]
    },
    {
      "cell_type": "code",
      "execution_count": 10,
      "metadata": {
        "id": "_IUT9FJVMkZB"
      },
      "outputs": [],
      "source": [
        "# Import libraries\n",
        "from sklearn.ensemble import RandomForestRegressor"
      ]
    },
    {
      "cell_type": "code",
      "execution_count": 52,
      "metadata": {
        "id": "X9BpL_SJMkZB"
      },
      "outputs": [],
      "source": [
        "# Create random forest model\n",
        "randforest_model = RandomForestRegressor(n_estimators = 100, min_samples_split = 20, bootstrap = True, random_state = 2023)"
      ]
    },
    {
      "cell_type": "code",
      "execution_count": 53,
      "metadata": {
        "colab": {
          "base_uri": "https://localhost:8080/",
          "height": 75
        },
        "id": "RjFScLRPMkZB",
        "outputId": "6c779765-07e9-45c9-a8ca-97ad81819787"
      },
      "outputs": [
        {
          "output_type": "execute_result",
          "data": {
            "text/plain": [
              "RandomForestRegressor(min_samples_split=20, random_state=2023)"
            ],
            "text/html": [
              "<style>#sk-container-id-2 {color: black;background-color: white;}#sk-container-id-2 pre{padding: 0;}#sk-container-id-2 div.sk-toggleable {background-color: white;}#sk-container-id-2 label.sk-toggleable__label {cursor: pointer;display: block;width: 100%;margin-bottom: 0;padding: 0.3em;box-sizing: border-box;text-align: center;}#sk-container-id-2 label.sk-toggleable__label-arrow:before {content: \"▸\";float: left;margin-right: 0.25em;color: #696969;}#sk-container-id-2 label.sk-toggleable__label-arrow:hover:before {color: black;}#sk-container-id-2 div.sk-estimator:hover label.sk-toggleable__label-arrow:before {color: black;}#sk-container-id-2 div.sk-toggleable__content {max-height: 0;max-width: 0;overflow: hidden;text-align: left;background-color: #f0f8ff;}#sk-container-id-2 div.sk-toggleable__content pre {margin: 0.2em;color: black;border-radius: 0.25em;background-color: #f0f8ff;}#sk-container-id-2 input.sk-toggleable__control:checked~div.sk-toggleable__content {max-height: 200px;max-width: 100%;overflow: auto;}#sk-container-id-2 input.sk-toggleable__control:checked~label.sk-toggleable__label-arrow:before {content: \"▾\";}#sk-container-id-2 div.sk-estimator input.sk-toggleable__control:checked~label.sk-toggleable__label {background-color: #d4ebff;}#sk-container-id-2 div.sk-label input.sk-toggleable__control:checked~label.sk-toggleable__label {background-color: #d4ebff;}#sk-container-id-2 input.sk-hidden--visually {border: 0;clip: rect(1px 1px 1px 1px);clip: rect(1px, 1px, 1px, 1px);height: 1px;margin: -1px;overflow: hidden;padding: 0;position: absolute;width: 1px;}#sk-container-id-2 div.sk-estimator {font-family: monospace;background-color: #f0f8ff;border: 1px dotted black;border-radius: 0.25em;box-sizing: border-box;margin-bottom: 0.5em;}#sk-container-id-2 div.sk-estimator:hover {background-color: #d4ebff;}#sk-container-id-2 div.sk-parallel-item::after {content: \"\";width: 100%;border-bottom: 1px solid gray;flex-grow: 1;}#sk-container-id-2 div.sk-label:hover label.sk-toggleable__label {background-color: #d4ebff;}#sk-container-id-2 div.sk-serial::before {content: \"\";position: absolute;border-left: 1px solid gray;box-sizing: border-box;top: 0;bottom: 0;left: 50%;z-index: 0;}#sk-container-id-2 div.sk-serial {display: flex;flex-direction: column;align-items: center;background-color: white;padding-right: 0.2em;padding-left: 0.2em;position: relative;}#sk-container-id-2 div.sk-item {position: relative;z-index: 1;}#sk-container-id-2 div.sk-parallel {display: flex;align-items: stretch;justify-content: center;background-color: white;position: relative;}#sk-container-id-2 div.sk-item::before, #sk-container-id-2 div.sk-parallel-item::before {content: \"\";position: absolute;border-left: 1px solid gray;box-sizing: border-box;top: 0;bottom: 0;left: 50%;z-index: -1;}#sk-container-id-2 div.sk-parallel-item {display: flex;flex-direction: column;z-index: 1;position: relative;background-color: white;}#sk-container-id-2 div.sk-parallel-item:first-child::after {align-self: flex-end;width: 50%;}#sk-container-id-2 div.sk-parallel-item:last-child::after {align-self: flex-start;width: 50%;}#sk-container-id-2 div.sk-parallel-item:only-child::after {width: 0;}#sk-container-id-2 div.sk-dashed-wrapped {border: 1px dashed gray;margin: 0 0.4em 0.5em 0.4em;box-sizing: border-box;padding-bottom: 0.4em;background-color: white;}#sk-container-id-2 div.sk-label label {font-family: monospace;font-weight: bold;display: inline-block;line-height: 1.2em;}#sk-container-id-2 div.sk-label-container {text-align: center;}#sk-container-id-2 div.sk-container {/* jupyter's `normalize.less` sets `[hidden] { display: none; }` but bootstrap.min.css set `[hidden] { display: none !important; }` so we also need the `!important` here to be able to override the default hidden behavior on the sphinx rendered scikit-learn.org. See: https://github.com/scikit-learn/scikit-learn/issues/21755 */display: inline-block !important;position: relative;}#sk-container-id-2 div.sk-text-repr-fallback {display: none;}</style><div id=\"sk-container-id-2\" class=\"sk-top-container\"><div class=\"sk-text-repr-fallback\"><pre>RandomForestRegressor(min_samples_split=20, random_state=2023)</pre><b>In a Jupyter environment, please rerun this cell to show the HTML representation or trust the notebook. <br />On GitHub, the HTML representation is unable to render, please try loading this page with nbviewer.org.</b></div><div class=\"sk-container\" hidden><div class=\"sk-item\"><div class=\"sk-estimator sk-toggleable\"><input class=\"sk-toggleable__control sk-hidden--visually\" id=\"sk-estimator-id-2\" type=\"checkbox\" checked><label for=\"sk-estimator-id-2\" class=\"sk-toggleable__label sk-toggleable__label-arrow\">RandomForestRegressor</label><div class=\"sk-toggleable__content\"><pre>RandomForestRegressor(min_samples_split=20, random_state=2023)</pre></div></div></div></div></div>"
            ]
          },
          "metadata": {},
          "execution_count": 53
        }
      ],
      "source": [
        "randforest_model.fit(X_train, y_train)"
      ]
    },
    {
      "cell_type": "code",
      "execution_count": 54,
      "metadata": {
        "id": "LBMv5PBuMkZC"
      },
      "outputs": [],
      "source": [
        "# Get results from predictions\n",
        "randforest_predictions = randforest_model.predict(X_test)"
      ]
    },
    {
      "cell_type": "code",
      "execution_count": 55,
      "metadata": {
        "id": "crFRLrg2MkZC",
        "colab": {
          "base_uri": "https://localhost:8080/"
        },
        "outputId": "38ba346a-7a2e-43d6-c1c5-a3b00d1486d7"
      },
      "outputs": [
        {
          "output_type": "execute_result",
          "data": {
            "text/plain": [
              "array([19.10124001, 19.68278074, 19.68946966, ..., 34.15317056,\n",
              "       35.36024595, 35.69144893])"
            ]
          },
          "metadata": {},
          "execution_count": 55
        }
      ],
      "source": [
        "# Print prediction results\n",
        "randforest_predictions"
      ]
    },
    {
      "cell_type": "markdown",
      "metadata": {
        "id": "eBOtyY1mMkZC"
      },
      "source": [
        "#### Statistical metrics and performance evaluation"
      ]
    },
    {
      "cell_type": "markdown",
      "metadata": {
        "id": "Gb8IOHVfMkZC"
      },
      "source": [
        "***Statistical metrics*** assess the model's accuracy and predictive power. Here are some commonly used statistical metrics for evaluating a Random Forest Regressor:\n",
        "\n",
        "*1. Mean Squared Error (MSE)*: measures the average squared difference between predicted and actual values. A lower MSE indicates better model performance.\n",
        "\n",
        "*2. Root Mean Squared Error (RMSR)*: is the square root of the MSE and provides the measures if the average prediction error in the same units as the target variables.\n",
        "\n",
        "*3. Mean Absolute Error (MAE)*: measures the average absolute difference between predicted and actual values. It is less sensitive to outliers compared to MSE.\n",
        "\n",
        "*4. R-squared ($R^2$)*: represents the proportion of variance in the target variable that is predictable from the input variables. $R^2$ ranges from 0 to 1, where 0 indicates the model does not explain any variance, and 1 indicates a perfect fit.\n",
        "\n",
        "*5. Explained Variance Score*: quantifies the proportion of variance in the target variable that is explained by the model. The score ranges from 0 to 1, where 1 represents a perfect fit."
      ]
    },
    {
      "cell_type": "code",
      "execution_count": 15,
      "metadata": {
        "id": "f7WOmDwvMkZC"
      },
      "outputs": [],
      "source": [
        "# Import libraries\n",
        "from sklearn import metrics\n",
        "from sklearn.metrics import mean_squared_error, mean_absolute_error, r2_score, explained_variance_score"
      ]
    },
    {
      "cell_type": "code",
      "execution_count": 56,
      "metadata": {
        "id": "aDVMj6HdMkZC"
      },
      "outputs": [],
      "source": [
        "# Compute the statistical metrics\n",
        "rand_mse = mean_squared_error(y_test, randforest_predictions) \n",
        "rand_rmse = np.sqrt(rand_mse)\n",
        "rand_mae = mean_absolute_error(y_test, randforest_predictions)\n",
        "rand_r2 = r2_score(y_test, randforest_predictions)\n",
        "rand_explained_var = explained_variance_score(y_test, randforest_predictions)"
      ]
    },
    {
      "cell_type": "code",
      "execution_count": 57,
      "metadata": {
        "colab": {
          "base_uri": "https://localhost:8080/"
        },
        "id": "HgIbIf9KMkZC",
        "outputId": "7f4f7831-1085-4bbc-9e64-64ff3a2a45e8"
      },
      "outputs": [
        {
          "output_type": "stream",
          "name": "stdout",
          "text": [
            "Mean Squared Error (MSE): 0.541\n",
            "Root Mean Squared Error (RMSE): 0.735\n",
            "Mean Absolute Error (MAE): 0.455\n",
            "R-squared (R²): 0.991\n",
            "Explained Variance Score: 0.991\n"
          ]
        }
      ],
      "source": [
        "# Print results of statistical metrics\n",
        "print(\"Mean Squared Error (MSE):\", round(rand_mse,3))\n",
        "print(\"Root Mean Squared Error (RMSE):\", round(rand_rmse,3))\n",
        "print(\"Mean Absolute Error (MAE):\", round(rand_mae, 3))\n",
        "print(\"R-squared (R²):\", round(rand_r2, 3))\n",
        "print(\"Explained Variance Score:\", round(rand_explained_var,3))"
      ]
    },
    {
      "cell_type": "code",
      "execution_count": 18,
      "metadata": {
        "colab": {
          "base_uri": "https://localhost:8080/"
        },
        "id": "zyB7dNzeMkZD",
        "outputId": "2323c37c-0790-4c06-e617-81507236a73b"
      },
      "outputs": [
        {
          "output_type": "stream",
          "name": "stdout",
          "text": [
            "Accuracy score: 97.016 %\n"
          ]
        }
      ],
      "source": [
        "# Compute accuracy score of the model\n",
        "errors = abs(y_test - randforest_predictions)\n",
        "mape = 100 * errors/y_test   # compute mean absolute percentage error measures the average percentage difference between the predicted and actual values.\n",
        "accuracy = 100 - np.mean(mape)\n",
        "print(f\"Accuracy score: {round(accuracy,3)} %\")"
      ]
    },
    {
      "cell_type": "markdown",
      "metadata": {
        "id": "R336P1RGMkZD"
      },
      "source": [
        "### 2.2. Recurrent Neural Networks (RNNs)"
      ]
    },
    {
      "cell_type": "code",
      "execution_count": 24,
      "metadata": {
        "id": "h98DIaHlMkZD"
      },
      "outputs": [],
      "source": [
        "# Import libraries\n",
        "import tensorflow as tf\n",
        "from tensorflow import keras\n",
        "from keras.models import Sequential\n",
        "from keras.layers import Dense, LSTM, GRU, Dropout\n",
        "import keras.backend as K\n",
        "from keras.callbacks import EarlyStopping\n",
        "from keras.optimizers import Adam"
      ]
    },
    {
      "cell_type": "markdown",
      "source": [
        "#### Artificial Neural Networks (ANNs) \n",
        "\n",
        "ANNs are generally used in supervised learning problems in which we know the target labels of the data. It consists of mainly three layers: input, hidden, and output layer."
      ],
      "metadata": {
        "id": "xipGYyyfRDwq"
      }
    },
    {
      "cell_type": "code",
      "execution_count": 25,
      "metadata": {
        "id": "5n5T-5ChMkZD"
      },
      "outputs": [],
      "source": [
        "# Clear the Keras session\n",
        "K.clear_session()  # A good practice to call this function before creating a new model to avoid any conflicts or memory leaks"
      ]
    },
    {
      "cell_type": "code",
      "source": [
        "# Create ANNs simple model\n",
        "ann_model = Sequential()  # create a simple linear stack of layers\n",
        "ann_model.add(Dense(12, input_dim = 4, activation = 'relu')) # adds a dense (fully connected) layer to the model (the dense layer has 12 units/neurons, input shape of the layer = 4, the rectified linear unit (ReLU) activation function)\n",
        "ann_model.add(Dense(1)) # adds another dense layer to the model with 1 unit/neuron. This layer serves as the output layer of the network, producing a single output value.\n",
        "ann_model.summary() # prints a summary of the model"
      ],
      "metadata": {
        "colab": {
          "base_uri": "https://localhost:8080/"
        },
        "id": "vfwbneklRv_m",
        "outputId": "4d730717-d4c8-4c21-c699-527b19273588"
      },
      "execution_count": 26,
      "outputs": [
        {
          "output_type": "stream",
          "name": "stdout",
          "text": [
            "Model: \"sequential\"\n",
            "_________________________________________________________________\n",
            " Layer (type)                Output Shape              Param #   \n",
            "=================================================================\n",
            " dense (Dense)               (None, 12)                60        \n",
            "                                                                 \n",
            " dense_1 (Dense)             (None, 1)                 13        \n",
            "                                                                 \n",
            "=================================================================\n",
            "Total params: 73\n",
            "Trainable params: 73\n",
            "Non-trainable params: 0\n",
            "_________________________________________________________________\n"
          ]
        }
      ]
    },
    {
      "cell_type": "code",
      "source": [
        "ann_model.compile(loss = tf.keras.metrics.mean_squared_error, metrics = [tf.keras.metrics.RootMeanSquaredError(name = 'rmse')], optimizer = 'adam')\n",
        "early_stop = EarlyStopping(monitor = 'loss', patience = 2, verbose = 1)\n",
        "ann_model.fit(X_train, y_train, epochs = 100, batch_size = 1, verbose = 1, callbacks = [early_stop], shuffle = False)"
      ],
      "metadata": {
        "id": "iieZmeMlTrg1"
      },
      "execution_count": null,
      "outputs": []
    },
    {
      "cell_type": "code",
      "source": [
        "# Get prediction results\n",
        "ann_predictions = ann_model.predict(X_test)"
      ],
      "metadata": {
        "id": "PeYQOqsUWoor",
        "colab": {
          "base_uri": "https://localhost:8080/"
        },
        "outputId": "6ebfcfbf-e86d-4805-edd1-16e36c71533e"
      },
      "execution_count": 28,
      "outputs": [
        {
          "output_type": "stream",
          "name": "stdout",
          "text": [
            "38/38 [==============================] - 0s 1ms/step\n"
          ]
        }
      ]
    },
    {
      "cell_type": "code",
      "source": [
        "# Convert results' shape\n",
        "ann_predictions = np.squeeze(ann_predictions)"
      ],
      "metadata": {
        "id": "zl_ogmUAhXa_"
      },
      "execution_count": 29,
      "outputs": []
    },
    {
      "cell_type": "code",
      "source": [
        "# Compute the statistical metrics\n",
        "ann_mse = mean_squared_error(y_test, ann_predictions) \n",
        "ann_rmse = np.sqrt(ann_mse)\n",
        "ann_mae = mean_absolute_error(y_test, ann_predictions)\n",
        "ann_r2 = r2_score(y_test, ann_predictions)\n",
        "ann_explained_var = explained_variance_score(y_test, ann_predictions)"
      ],
      "metadata": {
        "id": "Scqds409aXo8"
      },
      "execution_count": 30,
      "outputs": []
    },
    {
      "cell_type": "code",
      "source": [
        "# Print results of statistical metrics\n",
        "print(\"Mean Squared Error (MSE):\", round(ann_mse,3))\n",
        "print(\"Root Mean Squared Error (RMSE):\", round(ann_rmse,3))\n",
        "print(\"Mean Absolute Error (MAE):\", round(ann_mae, 3))\n",
        "print(\"R-squared (R²):\", round(ann_r2, 3))\n",
        "print(\"Explained Variance Score:\", round(ann_explained_var,3))"
      ],
      "metadata": {
        "colab": {
          "base_uri": "https://localhost:8080/"
        },
        "id": "LaFk4GngbG1u",
        "outputId": "379ee9bc-e8e3-4a35-b175-ab246d6f9cd8"
      },
      "execution_count": 31,
      "outputs": [
        {
          "output_type": "stream",
          "name": "stdout",
          "text": [
            "Mean Squared Error (MSE): 0.173\n",
            "Root Mean Squared Error (RMSE): 0.416\n",
            "Mean Absolute Error (MAE): 0.31\n",
            "R-squared (R²): 0.997\n",
            "Explained Variance Score: 0.998\n"
          ]
        }
      ]
    },
    {
      "cell_type": "markdown",
      "source": [
        "#### Long Short Term Memory (LSTM) \n",
        "\n",
        "Long Short-Term Memory (LSTM) networks are a type of recurrent neural network (RNN) designed to process and predict sequential data, such as time series or text. They have the ability to capture long-term dependencies and handle vanishing or exploding gradient problems typically encountered in traditional RNNs. LSTMs utilize memory cells and a gating mechanism that selectively stores, updates, and retrieves information, allowing them to effectively learn and retain important patterns over extended sequences."
      ],
      "metadata": {
        "id": "Z-sV7fRCPRP7"
      }
    },
    {
      "cell_type": "code",
      "source": [
        "# Reshape the input data to fit the LSTM input shape (samples, time steps, features)\n",
        "train_X = np.reshape(X_train, (X_train.shape[0], X_train.shape[1], 1))\n",
        "test_X = np.reshape(X_test, (X_test.shape[0], X_test.shape[1], 1))"
      ],
      "metadata": {
        "id": "0J4uoc3hSI7u"
      },
      "execution_count": 33,
      "outputs": []
    },
    {
      "cell_type": "code",
      "source": [
        "# Clear previous session\n",
        "K.clear_session()"
      ],
      "metadata": {
        "id": "CIn6s22sScDJ"
      },
      "execution_count": 34,
      "outputs": []
    },
    {
      "cell_type": "code",
      "source": [
        "# Create LSTM model\n",
        "lstm_model = Sequential()\n",
        "lstm_model.add(LSTM(50, input_shape = (X_train.shape[1], 1), activation = 'relu', kernel_initializer = 'lecun_uniform', return_sequences = False))\n",
        "lstm_model.add(Dense(1))\n",
        "lstm_model.summary()"
      ],
      "metadata": {
        "colab": {
          "base_uri": "https://localhost:8080/"
        },
        "id": "HRl0-15vSpim",
        "outputId": "561cb827-5a9d-4164-b89d-bbb2774b0237"
      },
      "execution_count": 35,
      "outputs": [
        {
          "output_type": "stream",
          "name": "stdout",
          "text": [
            "Model: \"sequential\"\n",
            "_________________________________________________________________\n",
            " Layer (type)                Output Shape              Param #   \n",
            "=================================================================\n",
            " lstm (LSTM)                 (None, 50)                10400     \n",
            "                                                                 \n",
            " dense (Dense)               (None, 1)                 51        \n",
            "                                                                 \n",
            "=================================================================\n",
            "Total params: 10,451\n",
            "Trainable params: 10,451\n",
            "Non-trainable params: 0\n",
            "_________________________________________________________________\n"
          ]
        }
      ]
    },
    {
      "cell_type": "code",
      "source": [
        "lstm_model.compile(loss = tf.keras.metrics.mean_squared_error, metrics = [tf.keras.metrics.RootMeanSquaredError(name = 'rmse')], optimizer = 'adam')\n",
        "early_stop = EarlyStopping(monitor = 'loss', patience = 5, verbose = 1)\n",
        "lstm_model.fit(train_X, y_train, epochs = 100, batch_size = 1, verbose = 1, shuffle = False, callbacks = [early_stop])"
      ],
      "metadata": {
        "id": "nfKYu1qZT1mv"
      },
      "execution_count": null,
      "outputs": []
    },
    {
      "cell_type": "code",
      "source": [
        "# Get prediction results\n",
        "lstm_predictions = lstm_model.predict(test_X)"
      ],
      "metadata": {
        "colab": {
          "base_uri": "https://localhost:8080/"
        },
        "id": "zlvJjCkAVU6A",
        "outputId": "e32b6ddb-f716-4e81-c782-ac4e6271de22"
      },
      "execution_count": 37,
      "outputs": [
        {
          "output_type": "stream",
          "name": "stdout",
          "text": [
            "38/38 [==============================] - 0s 2ms/step\n"
          ]
        }
      ]
    },
    {
      "cell_type": "code",
      "source": [
        "# View results\n",
        "lstm_predictions"
      ],
      "metadata": {
        "id": "mD9JZ0bddZiO"
      },
      "execution_count": null,
      "outputs": []
    },
    {
      "cell_type": "code",
      "source": [
        "# Convert results' shape\n",
        "lstm_predictions = np.squeeze(lstm_predictions)"
      ],
      "metadata": {
        "id": "yDw9iL-OgnvD"
      },
      "execution_count": 39,
      "outputs": []
    },
    {
      "cell_type": "code",
      "source": [
        "# Compute the statistical metrics\n",
        "lstm_mse = mean_squared_error(y_test, lstm_predictions) \n",
        "lstm_rmse = np.sqrt(lstm_mse)\n",
        "lstm_mae = mean_absolute_error(y_test, lstm_predictions)\n",
        "lstm_r2 = r2_score(y_test, lstm_predictions)\n",
        "lstm_explained_var = explained_variance_score(y_test, lstm_predictions)"
      ],
      "metadata": {
        "id": "ac9D_Eedf9Hg"
      },
      "execution_count": 40,
      "outputs": []
    },
    {
      "cell_type": "code",
      "source": [
        "# Print results of statistical metrics\n",
        "print(\"Mean Squared Error (MSE):\", round(lstm_mse,3))\n",
        "print(\"Root Mean Squared Error (RMSE):\", round(lstm_rmse,3))\n",
        "print(\"Mean Absolute Error (MAE):\", round(lstm_mae, 3))\n",
        "print(\"R-squared (R²):\", round(lstm_r2, 3))\n",
        "print(\"Explained Variance Score:\", round(lstm_explained_var,3))"
      ],
      "metadata": {
        "colab": {
          "base_uri": "https://localhost:8080/"
        },
        "id": "S1qdwj9mgae_",
        "outputId": "9453772a-5820-4f17-f626-c1edb2dfc153"
      },
      "execution_count": 41,
      "outputs": [
        {
          "output_type": "stream",
          "name": "stdout",
          "text": [
            "Mean Squared Error (MSE): 0.527\n",
            "Root Mean Squared Error (RMSE): 0.726\n",
            "Mean Absolute Error (MAE): 0.561\n",
            "R-squared (R²): 0.991\n",
            "Explained Variance Score: 0.994\n"
          ]
        }
      ]
    },
    {
      "cell_type": "markdown",
      "source": [
        "#### Gated Recurrent Unit (GRU)\n",
        "Gated Recurrent Unit (GRU) is a type of recurrent neural network (RNN) architecture that addresses the vanishing gradient problem and captures long-term dependencies in sequential data. GRU simplifies the architecture of traditional RNNs by incorporating a reset gate and an update gate, allowing it to selectively retain or forget information. This gate mechanism enables GRU to effectively model sequential patterns and has made it popular in tasks such as natural language processing and time series analysis."
      ],
      "metadata": {
        "id": "l5Ty6z7ansad"
      }
    },
    {
      "cell_type": "code",
      "source": [
        "# Clear previous session\n",
        "K.clear_session()"
      ],
      "metadata": {
        "id": "_eZoM280n4ac"
      },
      "execution_count": 42,
      "outputs": []
    },
    {
      "cell_type": "code",
      "source": [
        "# Create GRU model\n",
        "gru_model = Sequential()\n",
        "gru_model.add(GRU(7, input_shape = (X_train.shape[1], 1), activation = 'linear', kernel_initializer = 'lecun_uniform', return_sequences = False))\n",
        "gru_model.add(Dense(1))\n",
        "gru_model.summary()"
      ],
      "metadata": {
        "colab": {
          "base_uri": "https://localhost:8080/"
        },
        "id": "FKvAag3Fn52_",
        "outputId": "ea9037de-267f-4379-cdff-352adcfdc29a"
      },
      "execution_count": 45,
      "outputs": [
        {
          "output_type": "stream",
          "name": "stdout",
          "text": [
            "Model: \"sequential_1\"\n",
            "_________________________________________________________________\n",
            " Layer (type)                Output Shape              Param #   \n",
            "=================================================================\n",
            " gru_1 (GRU)                 (None, 7)                 210       \n",
            "                                                                 \n",
            " dense_1 (Dense)             (None, 1)                 8         \n",
            "                                                                 \n",
            "=================================================================\n",
            "Total params: 218\n",
            "Trainable params: 218\n",
            "Non-trainable params: 0\n",
            "_________________________________________________________________\n"
          ]
        }
      ]
    },
    {
      "cell_type": "code",
      "source": [
        "gru_model.compile(loss = tf.keras.metrics.mean_squared_error, metrics = [tf.keras.metrics.RootMeanSquaredError(name = 'rmse')], optimizer = 'adam')\n",
        "early_stop = EarlyStopping(monitor = 'loss', patience = 10, verbose = 1)\n",
        "gru_model.fit(train_X, y_train, epochs = 100, batch_size = 1, verbose = 1, shuffle = False, callbacks = [early_stop])"
      ],
      "metadata": {
        "id": "35s4_jr-oQsc"
      },
      "execution_count": null,
      "outputs": []
    },
    {
      "cell_type": "code",
      "source": [
        "# Get prediction results\n",
        "gru_predictions = gru_model.predict(test_X)"
      ],
      "metadata": {
        "colab": {
          "base_uri": "https://localhost:8080/"
        },
        "id": "rf3DoHzLowKN",
        "outputId": "682e2bf5-f59e-4a30-9081-28ebb1cd509b"
      },
      "execution_count": 47,
      "outputs": [
        {
          "output_type": "stream",
          "name": "stdout",
          "text": [
            "38/38 [==============================] - 0s 2ms/step\n"
          ]
        }
      ]
    },
    {
      "cell_type": "code",
      "source": [
        "# View results\n",
        "gru_predictions"
      ],
      "metadata": {
        "id": "9zktljkurZd6"
      },
      "execution_count": null,
      "outputs": []
    },
    {
      "cell_type": "code",
      "source": [
        "# Convert results' shape\n",
        "gru_predictions = np.squeeze(gru_predictions)"
      ],
      "metadata": {
        "id": "b0lSbKSXrcv_"
      },
      "execution_count": 49,
      "outputs": []
    },
    {
      "cell_type": "code",
      "source": [
        "# Compute the statistical metrics\n",
        "gru_mse = mean_squared_error(y_test, gru_predictions) \n",
        "gru_rmse = np.sqrt(gru_mse)\n",
        "gru_mae = mean_absolute_error(y_test, gru_predictions)\n",
        "gru_r2 = r2_score(y_test, gru_predictions)\n",
        "gru_explained_var = explained_variance_score(y_test, gru_predictions)"
      ],
      "metadata": {
        "id": "wAE9gt0Orixi"
      },
      "execution_count": 50,
      "outputs": []
    },
    {
      "cell_type": "code",
      "source": [
        "# Print results of statistical metrics\n",
        "print(\"Mean Squared Error (MSE):\", round(gru_mse,3))\n",
        "print(\"Root Mean Squared Error (RMSE):\", round(gru_rmse,3))\n",
        "print(\"Mean Absolute Error (MAE):\", round(gru_mae, 3))\n",
        "print(\"R-squared (R²):\", round(gru_r2, 3))\n",
        "print(\"Explained Variance Score:\", round(gru_explained_var,3))"
      ],
      "metadata": {
        "colab": {
          "base_uri": "https://localhost:8080/"
        },
        "id": "LgX5eAqFrl88",
        "outputId": "9cd18947-fe2e-4e67-8283-31f7f5e6c604"
      },
      "execution_count": 51,
      "outputs": [
        {
          "output_type": "stream",
          "name": "stdout",
          "text": [
            "Mean Squared Error (MSE): 0.336\n",
            "Root Mean Squared Error (RMSE): 0.579\n",
            "Mean Absolute Error (MAE): 0.468\n",
            "R-squared (R²): 0.994\n",
            "Explained Variance Score: 0.996\n"
          ]
        }
      ]
    },
    {
      "cell_type": "markdown",
      "source": [
        "### 3. Results Visualisation"
      ],
      "metadata": {
        "id": "ErnxYqG-sR7G"
      }
    },
    {
      "cell_type": "code",
      "source": [
        "# Create lists of predicted results\n",
        "randforest_preds = list(y_train) + list(randforest_predictions)\n",
        "ann_preds = list(y_train) + list(ann_predictions)\n",
        "lstm_preds = list(y_train) + list(lstm_predictions)\n",
        "gru_preds = list(y_train) + list(gru_predictions)"
      ],
      "metadata": {
        "id": "USxfhphqsdDL"
      },
      "execution_count": 58,
      "outputs": []
    },
    {
      "cell_type": "code",
      "source": [
        "# Creat dataframe\n",
        "predicted_df = pd.DataFrame(ifx_df['Close'])"
      ],
      "metadata": {
        "id": "da5wA5yltkwT"
      },
      "execution_count": 59,
      "outputs": []
    },
    {
      "cell_type": "code",
      "source": [
        "# Add predicted columns\n",
        "predicted_df['Rand_Close'] = randforest_preds\n",
        "predicted_df['ANN_Close'] = ann_preds\n",
        "predicted_df['LSTM_Close'] = lstm_preds\n",
        "predicted_df['GRU_Close'] = gru_preds"
      ],
      "metadata": {
        "id": "QH1viMH3uNqf"
      },
      "execution_count": 60,
      "outputs": []
    },
    {
      "cell_type": "code",
      "source": [
        "# View new data\n",
        "predicted_df"
      ],
      "metadata": {
        "colab": {
          "base_uri": "https://localhost:8080/",
          "height": 455
        },
        "id": "X-7tv4nuuPC1",
        "outputId": "39c1e4aa-1c90-4142-f55e-82576b2f5c83"
      },
      "execution_count": 61,
      "outputs": [
        {
          "output_type": "execute_result",
          "data": {
            "text/plain": [
              "                Close  Rand_Close  ANN_Close  LSTM_Close  GRU_Close\n",
              "Date                                                               \n",
              "2000-03-13  62.641422   62.641422  62.641422   62.641422  62.641422\n",
              "2000-03-14  70.344551   70.344551  70.344551   70.344551  70.344551\n",
              "2000-03-15  65.119980   65.119980  65.119980   65.119980  65.119980\n",
              "2000-03-16  62.677086   62.677086  62.677086   62.677086  62.677086\n",
              "2000-03-17  63.746967   63.746967  63.746967   63.746967  63.746967\n",
              "...               ...         ...        ...         ...        ...\n",
              "2023-05-15  33.445000   33.786316  33.117855   32.626877  33.029320\n",
              "2023-05-16  34.200001   34.124056  33.749733   33.201447  33.518032\n",
              "2023-05-17  34.404999   34.153171  33.722038   33.208096  33.586575\n",
              "2023-05-18  35.764999   35.360246  34.967415   34.414337  34.857891\n",
              "2023-05-19  35.955002   35.691449  35.766998   35.091518  35.339962\n",
              "\n",
              "[5928 rows x 5 columns]"
            ],
            "text/html": [
              "\n",
              "  <div id=\"df-d67e60ff-d532-4124-b463-d37943d82285\">\n",
              "    <div class=\"colab-df-container\">\n",
              "      <div>\n",
              "<style scoped>\n",
              "    .dataframe tbody tr th:only-of-type {\n",
              "        vertical-align: middle;\n",
              "    }\n",
              "\n",
              "    .dataframe tbody tr th {\n",
              "        vertical-align: top;\n",
              "    }\n",
              "\n",
              "    .dataframe thead th {\n",
              "        text-align: right;\n",
              "    }\n",
              "</style>\n",
              "<table border=\"1\" class=\"dataframe\">\n",
              "  <thead>\n",
              "    <tr style=\"text-align: right;\">\n",
              "      <th></th>\n",
              "      <th>Close</th>\n",
              "      <th>Rand_Close</th>\n",
              "      <th>ANN_Close</th>\n",
              "      <th>LSTM_Close</th>\n",
              "      <th>GRU_Close</th>\n",
              "    </tr>\n",
              "    <tr>\n",
              "      <th>Date</th>\n",
              "      <th></th>\n",
              "      <th></th>\n",
              "      <th></th>\n",
              "      <th></th>\n",
              "      <th></th>\n",
              "    </tr>\n",
              "  </thead>\n",
              "  <tbody>\n",
              "    <tr>\n",
              "      <th>2000-03-13</th>\n",
              "      <td>62.641422</td>\n",
              "      <td>62.641422</td>\n",
              "      <td>62.641422</td>\n",
              "      <td>62.641422</td>\n",
              "      <td>62.641422</td>\n",
              "    </tr>\n",
              "    <tr>\n",
              "      <th>2000-03-14</th>\n",
              "      <td>70.344551</td>\n",
              "      <td>70.344551</td>\n",
              "      <td>70.344551</td>\n",
              "      <td>70.344551</td>\n",
              "      <td>70.344551</td>\n",
              "    </tr>\n",
              "    <tr>\n",
              "      <th>2000-03-15</th>\n",
              "      <td>65.119980</td>\n",
              "      <td>65.119980</td>\n",
              "      <td>65.119980</td>\n",
              "      <td>65.119980</td>\n",
              "      <td>65.119980</td>\n",
              "    </tr>\n",
              "    <tr>\n",
              "      <th>2000-03-16</th>\n",
              "      <td>62.677086</td>\n",
              "      <td>62.677086</td>\n",
              "      <td>62.677086</td>\n",
              "      <td>62.677086</td>\n",
              "      <td>62.677086</td>\n",
              "    </tr>\n",
              "    <tr>\n",
              "      <th>2000-03-17</th>\n",
              "      <td>63.746967</td>\n",
              "      <td>63.746967</td>\n",
              "      <td>63.746967</td>\n",
              "      <td>63.746967</td>\n",
              "      <td>63.746967</td>\n",
              "    </tr>\n",
              "    <tr>\n",
              "      <th>...</th>\n",
              "      <td>...</td>\n",
              "      <td>...</td>\n",
              "      <td>...</td>\n",
              "      <td>...</td>\n",
              "      <td>...</td>\n",
              "    </tr>\n",
              "    <tr>\n",
              "      <th>2023-05-15</th>\n",
              "      <td>33.445000</td>\n",
              "      <td>33.786316</td>\n",
              "      <td>33.117855</td>\n",
              "      <td>32.626877</td>\n",
              "      <td>33.029320</td>\n",
              "    </tr>\n",
              "    <tr>\n",
              "      <th>2023-05-16</th>\n",
              "      <td>34.200001</td>\n",
              "      <td>34.124056</td>\n",
              "      <td>33.749733</td>\n",
              "      <td>33.201447</td>\n",
              "      <td>33.518032</td>\n",
              "    </tr>\n",
              "    <tr>\n",
              "      <th>2023-05-17</th>\n",
              "      <td>34.404999</td>\n",
              "      <td>34.153171</td>\n",
              "      <td>33.722038</td>\n",
              "      <td>33.208096</td>\n",
              "      <td>33.586575</td>\n",
              "    </tr>\n",
              "    <tr>\n",
              "      <th>2023-05-18</th>\n",
              "      <td>35.764999</td>\n",
              "      <td>35.360246</td>\n",
              "      <td>34.967415</td>\n",
              "      <td>34.414337</td>\n",
              "      <td>34.857891</td>\n",
              "    </tr>\n",
              "    <tr>\n",
              "      <th>2023-05-19</th>\n",
              "      <td>35.955002</td>\n",
              "      <td>35.691449</td>\n",
              "      <td>35.766998</td>\n",
              "      <td>35.091518</td>\n",
              "      <td>35.339962</td>\n",
              "    </tr>\n",
              "  </tbody>\n",
              "</table>\n",
              "<p>5928 rows × 5 columns</p>\n",
              "</div>\n",
              "      <button class=\"colab-df-convert\" onclick=\"convertToInteractive('df-d67e60ff-d532-4124-b463-d37943d82285')\"\n",
              "              title=\"Convert this dataframe to an interactive table.\"\n",
              "              style=\"display:none;\">\n",
              "        \n",
              "  <svg xmlns=\"http://www.w3.org/2000/svg\" height=\"24px\"viewBox=\"0 0 24 24\"\n",
              "       width=\"24px\">\n",
              "    <path d=\"M0 0h24v24H0V0z\" fill=\"none\"/>\n",
              "    <path d=\"M18.56 5.44l.94 2.06.94-2.06 2.06-.94-2.06-.94-.94-2.06-.94 2.06-2.06.94zm-11 1L8.5 8.5l.94-2.06 2.06-.94-2.06-.94L8.5 2.5l-.94 2.06-2.06.94zm10 10l.94 2.06.94-2.06 2.06-.94-2.06-.94-.94-2.06-.94 2.06-2.06.94z\"/><path d=\"M17.41 7.96l-1.37-1.37c-.4-.4-.92-.59-1.43-.59-.52 0-1.04.2-1.43.59L10.3 9.45l-7.72 7.72c-.78.78-.78 2.05 0 2.83L4 21.41c.39.39.9.59 1.41.59.51 0 1.02-.2 1.41-.59l7.78-7.78 2.81-2.81c.8-.78.8-2.07 0-2.86zM5.41 20L4 18.59l7.72-7.72 1.47 1.35L5.41 20z\"/>\n",
              "  </svg>\n",
              "      </button>\n",
              "      \n",
              "  <style>\n",
              "    .colab-df-container {\n",
              "      display:flex;\n",
              "      flex-wrap:wrap;\n",
              "      gap: 12px;\n",
              "    }\n",
              "\n",
              "    .colab-df-convert {\n",
              "      background-color: #E8F0FE;\n",
              "      border: none;\n",
              "      border-radius: 50%;\n",
              "      cursor: pointer;\n",
              "      display: none;\n",
              "      fill: #1967D2;\n",
              "      height: 32px;\n",
              "      padding: 0 0 0 0;\n",
              "      width: 32px;\n",
              "    }\n",
              "\n",
              "    .colab-df-convert:hover {\n",
              "      background-color: #E2EBFA;\n",
              "      box-shadow: 0px 1px 2px rgba(60, 64, 67, 0.3), 0px 1px 3px 1px rgba(60, 64, 67, 0.15);\n",
              "      fill: #174EA6;\n",
              "    }\n",
              "\n",
              "    [theme=dark] .colab-df-convert {\n",
              "      background-color: #3B4455;\n",
              "      fill: #D2E3FC;\n",
              "    }\n",
              "\n",
              "    [theme=dark] .colab-df-convert:hover {\n",
              "      background-color: #434B5C;\n",
              "      box-shadow: 0px 1px 3px 1px rgba(0, 0, 0, 0.15);\n",
              "      filter: drop-shadow(0px 1px 2px rgba(0, 0, 0, 0.3));\n",
              "      fill: #FFFFFF;\n",
              "    }\n",
              "  </style>\n",
              "\n",
              "      <script>\n",
              "        const buttonEl =\n",
              "          document.querySelector('#df-d67e60ff-d532-4124-b463-d37943d82285 button.colab-df-convert');\n",
              "        buttonEl.style.display =\n",
              "          google.colab.kernel.accessAllowed ? 'block' : 'none';\n",
              "\n",
              "        async function convertToInteractive(key) {\n",
              "          const element = document.querySelector('#df-d67e60ff-d532-4124-b463-d37943d82285');\n",
              "          const dataTable =\n",
              "            await google.colab.kernel.invokeFunction('convertToInteractive',\n",
              "                                                     [key], {});\n",
              "          if (!dataTable) return;\n",
              "\n",
              "          const docLinkHtml = 'Like what you see? Visit the ' +\n",
              "            '<a target=\"_blank\" href=https://colab.research.google.com/notebooks/data_table.ipynb>data table notebook</a>'\n",
              "            + ' to learn more about interactive tables.';\n",
              "          element.innerHTML = '';\n",
              "          dataTable['output_type'] = 'display_data';\n",
              "          await google.colab.output.renderOutput(dataTable, element);\n",
              "          const docLink = document.createElement('div');\n",
              "          docLink.innerHTML = docLinkHtml;\n",
              "          element.appendChild(docLink);\n",
              "        }\n",
              "      </script>\n",
              "    </div>\n",
              "  </div>\n",
              "  "
            ]
          },
          "metadata": {},
          "execution_count": 61
        }
      ]
    },
    {
      "cell_type": "code",
      "source": [
        "# Create plot\n",
        "nrows = 2\n",
        "ncols = 2\n",
        "fig, ax = plt.subplots(nrows=nrows, ncols=ncols, figsize = (16, 10))\n",
        "model_names = ['Random Forest', 'Artificial Neural Networks', 'Long Short Term Model', 'Gated Recurrent Unit']\n",
        "col_names = ['Rand_Close', 'ANN_Close', 'LSTM_Close', 'GRU_Close']\n",
        "\n",
        "for i in range(nrows):\n",
        "    for j in range(ncols):\n",
        "        idx = i * ncols + j\n",
        "        col_name = col_names[idx]\n",
        "        ax[i, j].plot(predicted_df['Close'], linewidth = 1.6, color = 'darkcyan')\n",
        "        ax[i, j].plot(predicted_df[col_name][train_size:], linewidth = 1.6, color = 'orange')\n",
        "        ax[i, j].set_title(f\"Model {model_names[idx]}\", size = 14)\n",
        "        ax[i, j].set_xlabel(\"Date\", size = 16)\n",
        "        ax[i, j].set_ylabel(\"Close Price in Euro (€)\", size = 16)\n",
        "        ax[i, j].legend([\"Actual\", \"Predicted\"], loc = \"upper right\")\n",
        "\n",
        "plt.show();\n"
      ],
      "metadata": {
        "colab": {
          "base_uri": "https://localhost:8080/",
          "height": 916
        },
        "id": "tqC3j3A9vBmS",
        "outputId": "96fbb98c-c8c7-44b8-cd3a-e67f689e8d3c"
      },
      "execution_count": 85,
      "outputs": [
        {
          "output_type": "display_data",
          "data": {
            "text/plain": [
              "<Figure size 1600x1000 with 4 Axes>"
            ],
            "image/png": "[encoded data removed]"
          },
          "metadata": {}
        }
      ]
    },
    {
      "cell_type": "markdown",
      "source": [
        "### 4. Model Application\n",
        "\n",
        "In this section, we will apply the created models into new data to see how they predict out-of-sample data.\n",
        "\n",
        "As the performance of ANN model represents the most relevant, we will use ANN for the prediction."
      ],
      "metadata": {
        "id": "-p7Ll8wotxSX"
      }
    },
    {
      "cell_type": "code",
      "source": [
        "# Retrieve stock price of Infineon\n",
        "ifx_df1 = yf.download(\"IFX.DE\", start = dt.datetime(2023,5,20), end = dt.datetime.today())\n",
        "\n",
        "# See the data\n",
        "ifx_df1"
      ],
      "metadata": {
        "id": "fXFEbcv4xfVK",
        "colab": {
          "base_uri": "https://localhost:8080/",
          "height": 224
        },
        "outputId": "9a3f0f5b-a574-41af-9a11-96fc6dfd8950"
      },
      "execution_count": 86,
      "outputs": [
        {
          "output_type": "stream",
          "name": "stdout",
          "text": [
            "\r[*********************100%***********************]  1 of 1 completed\n"
          ]
        },
        {
          "output_type": "execute_result",
          "data": {
            "text/plain": [
              "                 Open       High        Low      Close  Adj Close   Volume\n",
              "Date                                                                      \n",
              "2023-05-22  35.990002  36.014999  35.564999  35.955002  35.955002  2397983\n",
              "2023-05-24  35.340000  35.389999  33.540001  33.724998  33.724998  4983098\n",
              "2023-05-25  34.000000  34.349998  33.005001  33.095001  33.095001  5842060\n",
              "2023-05-26  33.509998  34.775002  33.165001  34.544998  34.544998  4347613"
            ],
            "text/html": [
              "\n",
              "  <div id=\"df-e9195fed-8653-4529-a993-b4c0ac63d6d0\">\n",
              "    <div class=\"colab-df-container\">\n",
              "      <div>\n",
              "<style scoped>\n",
              "    .dataframe tbody tr th:only-of-type {\n",
              "        vertical-align: middle;\n",
              "    }\n",
              "\n",
              "    .dataframe tbody tr th {\n",
              "        vertical-align: top;\n",
              "    }\n",
              "\n",
              "    .dataframe thead th {\n",
              "        text-align: right;\n",
              "    }\n",
              "</style>\n",
              "<table border=\"1\" class=\"dataframe\">\n",
              "  <thead>\n",
              "    <tr style=\"text-align: right;\">\n",
              "      <th></th>\n",
              "      <th>Open</th>\n",
              "      <th>High</th>\n",
              "      <th>Low</th>\n",
              "      <th>Close</th>\n",
              "      <th>Adj Close</th>\n",
              "      <th>Volume</th>\n",
              "    </tr>\n",
              "    <tr>\n",
              "      <th>Date</th>\n",
              "      <th></th>\n",
              "      <th></th>\n",
              "      <th></th>\n",
              "      <th></th>\n",
              "      <th></th>\n",
              "      <th></th>\n",
              "    </tr>\n",
              "  </thead>\n",
              "  <tbody>\n",
              "    <tr>\n",
              "      <th>2023-05-22</th>\n",
              "      <td>35.990002</td>\n",
              "      <td>36.014999</td>\n",
              "      <td>35.564999</td>\n",
              "      <td>35.955002</td>\n",
              "      <td>35.955002</td>\n",
              "      <td>2397983</td>\n",
              "    </tr>\n",
              "    <tr>\n",
              "      <th>2023-05-24</th>\n",
              "      <td>35.340000</td>\n",
              "      <td>35.389999</td>\n",
              "      <td>33.540001</td>\n",
              "      <td>33.724998</td>\n",
              "      <td>33.724998</td>\n",
              "      <td>4983098</td>\n",
              "    </tr>\n",
              "    <tr>\n",
              "      <th>2023-05-25</th>\n",
              "      <td>34.000000</td>\n",
              "      <td>34.349998</td>\n",
              "      <td>33.005001</td>\n",
              "      <td>33.095001</td>\n",
              "      <td>33.095001</td>\n",
              "      <td>5842060</td>\n",
              "    </tr>\n",
              "    <tr>\n",
              "      <th>2023-05-26</th>\n",
              "      <td>33.509998</td>\n",
              "      <td>34.775002</td>\n",
              "      <td>33.165001</td>\n",
              "      <td>34.544998</td>\n",
              "      <td>34.544998</td>\n",
              "      <td>4347613</td>\n",
              "    </tr>\n",
              "  </tbody>\n",
              "</table>\n",
              "</div>\n",
              "      <button class=\"colab-df-convert\" onclick=\"convertToInteractive('df-e9195fed-8653-4529-a993-b4c0ac63d6d0')\"\n",
              "              title=\"Convert this dataframe to an interactive table.\"\n",
              "              style=\"display:none;\">\n",
              "        \n",
              "  <svg xmlns=\"http://www.w3.org/2000/svg\" height=\"24px\"viewBox=\"0 0 24 24\"\n",
              "       width=\"24px\">\n",
              "    <path d=\"M0 0h24v24H0V0z\" fill=\"none\"/>\n",
              "    <path d=\"M18.56 5.44l.94 2.06.94-2.06 2.06-.94-2.06-.94-.94-2.06-.94 2.06-2.06.94zm-11 1L8.5 8.5l.94-2.06 2.06-.94-2.06-.94L8.5 2.5l-.94 2.06-2.06.94zm10 10l.94 2.06.94-2.06 2.06-.94-2.06-.94-.94-2.06-.94 2.06-2.06.94z\"/><path d=\"M17.41 7.96l-1.37-1.37c-.4-.4-.92-.59-1.43-.59-.52 0-1.04.2-1.43.59L10.3 9.45l-7.72 7.72c-.78.78-.78 2.05 0 2.83L4 21.41c.39.39.9.59 1.41.59.51 0 1.02-.2 1.41-.59l7.78-7.78 2.81-2.81c.8-.78.8-2.07 0-2.86zM5.41 20L4 18.59l7.72-7.72 1.47 1.35L5.41 20z\"/>\n",
              "  </svg>\n",
              "      </button>\n",
              "      \n",
              "  <style>\n",
              "    .colab-df-container {\n",
              "      display:flex;\n",
              "      flex-wrap:wrap;\n",
              "      gap: 12px;\n",
              "    }\n",
              "\n",
              "    .colab-df-convert {\n",
              "      background-color: #E8F0FE;\n",
              "      border: none;\n",
              "      border-radius: 50%;\n",
              "      cursor: pointer;\n",
              "      display: none;\n",
              "      fill: #1967D2;\n",
              "      height: 32px;\n",
              "      padding: 0 0 0 0;\n",
              "      width: 32px;\n",
              "    }\n",
              "\n",
              "    .colab-df-convert:hover {\n",
              "      background-color: #E2EBFA;\n",
              "      box-shadow: 0px 1px 2px rgba(60, 64, 67, 0.3), 0px 1px 3px 1px rgba(60, 64, 67, 0.15);\n",
              "      fill: #174EA6;\n",
              "    }\n",
              "\n",
              "    [theme=dark] .colab-df-convert {\n",
              "      background-color: #3B4455;\n",
              "      fill: #D2E3FC;\n",
              "    }\n",
              "\n",
              "    [theme=dark] .colab-df-convert:hover {\n",
              "      background-color: #434B5C;\n",
              "      box-shadow: 0px 1px 3px 1px rgba(0, 0, 0, 0.15);\n",
              "      filter: drop-shadow(0px 1px 2px rgba(0, 0, 0, 0.3));\n",
              "      fill: #FFFFFF;\n",
              "    }\n",
              "  </style>\n",
              "\n",
              "      <script>\n",
              "        const buttonEl =\n",
              "          document.querySelector('#df-e9195fed-8653-4529-a993-b4c0ac63d6d0 button.colab-df-convert');\n",
              "        buttonEl.style.display =\n",
              "          google.colab.kernel.accessAllowed ? 'block' : 'none';\n",
              "\n",
              "        async function convertToInteractive(key) {\n",
              "          const element = document.querySelector('#df-e9195fed-8653-4529-a993-b4c0ac63d6d0');\n",
              "          const dataTable =\n",
              "            await google.colab.kernel.invokeFunction('convertToInteractive',\n",
              "                                                     [key], {});\n",
              "          if (!dataTable) return;\n",
              "\n",
              "          const docLinkHtml = 'Like what you see? Visit the ' +\n",
              "            '<a target=\"_blank\" href=https://colab.research.google.com/notebooks/data_table.ipynb>data table notebook</a>'\n",
              "            + ' to learn more about interactive tables.';\n",
              "          element.innerHTML = '';\n",
              "          dataTable['output_type'] = 'display_data';\n",
              "          await google.colab.output.renderOutput(dataTable, element);\n",
              "          const docLink = document.createElement('div');\n",
              "          docLink.innerHTML = docLinkHtml;\n",
              "          element.appendChild(docLink);\n",
              "        }\n",
              "      </script>\n",
              "    </div>\n",
              "  </div>\n",
              "  "
            ]
          },
          "metadata": {},
          "execution_count": 86
        }
      ]
    },
    {
      "cell_type": "code",
      "source": [
        "# Create X, y test\n",
        "test_lastweek_X = ifx_df1[features]\n",
        "test_lastweek_y = ifx_df1[target]"
      ],
      "metadata": {
        "id": "yM3al0FKxxeh"
      },
      "execution_count": 87,
      "outputs": []
    },
    {
      "cell_type": "code",
      "source": [
        "# Scale X test data\n",
        "test_lastweek_X = scale.transform(test_lastweek_X)"
      ],
      "metadata": {
        "id": "RZEXmHFlyaqo"
      },
      "execution_count": 88,
      "outputs": []
    },
    {
      "cell_type": "code",
      "source": [
        "# Get predicted results from ANN model\n",
        "lastweek_ANN_predictions = ann_model.predict(test_lastweek_X)"
      ],
      "metadata": {
        "colab": {
          "base_uri": "https://localhost:8080/"
        },
        "id": "_U9ecc_Kz8hg",
        "outputId": "c48ab470-db59-4a99-f576-e7fb4fc98b9e"
      },
      "execution_count": 89,
      "outputs": [
        {
          "output_type": "stream",
          "name": "stdout",
          "text": [
            "1/1 [==============================] - 0s 70ms/step\n"
          ]
        }
      ]
    },
    {
      "cell_type": "code",
      "source": [
        "# Transform predictions array\n",
        "lastweek_ANN_predictions = np.squeeze(lastweek_ANN_predictions)"
      ],
      "metadata": {
        "id": "2kw-DyhA0XFv"
      },
      "execution_count": 92,
      "outputs": []
    },
    {
      "cell_type": "code",
      "source": [
        "# Compute Mean Squared Error\n",
        "lastweek_mse = mean_squared_error(test_lastweek_y, lastweek_ANN_predictions) "
      ],
      "metadata": {
        "id": "K57trLsJ1Gcn"
      },
      "execution_count": 96,
      "outputs": []
    },
    {
      "cell_type": "code",
      "source": [
        "# Create new dataframe\n",
        "lastweek_df = pd.DataFrame(test_lastweek_y)"
      ],
      "metadata": {
        "id": "UCpO8cuB1rvt"
      },
      "execution_count": 99,
      "outputs": []
    },
    {
      "cell_type": "code",
      "source": [
        "lastweek_df['ANN_Close'] = list(lastweek_ANN_predictions)"
      ],
      "metadata": {
        "id": "cE4Q4Eut2H9S"
      },
      "execution_count": 100,
      "outputs": []
    },
    {
      "cell_type": "code",
      "source": [
        "lastweek_df"
      ],
      "metadata": {
        "colab": {
          "base_uri": "https://localhost:8080/",
          "height": 206
        },
        "id": "cCARHD3n2ZL2",
        "outputId": "859ad5d5-ccd4-4450-ef41-a4a69c68c362"
      },
      "execution_count": 101,
      "outputs": [
        {
          "output_type": "execute_result",
          "data": {
            "text/plain": [
              "                Close  ANN_Close\n",
              "Date                            \n",
              "2023-05-22  35.955002  35.105198\n",
              "2023-05-24  33.724998  33.602875\n",
              "2023-05-25  33.095001  33.153023\n",
              "2023-05-26  34.544998  33.710556"
            ],
            "text/html": [
              "\n",
              "  <div id=\"df-b10a5dfc-c852-468b-83d3-1866701434bf\">\n",
              "    <div class=\"colab-df-container\">\n",
              "      <div>\n",
              "<style scoped>\n",
              "    .dataframe tbody tr th:only-of-type {\n",
              "        vertical-align: middle;\n",
              "    }\n",
              "\n",
              "    .dataframe tbody tr th {\n",
              "        vertical-align: top;\n",
              "    }\n",
              "\n",
              "    .dataframe thead th {\n",
              "        text-align: right;\n",
              "    }\n",
              "</style>\n",
              "<table border=\"1\" class=\"dataframe\">\n",
              "  <thead>\n",
              "    <tr style=\"text-align: right;\">\n",
              "      <th></th>\n",
              "      <th>Close</th>\n",
              "      <th>ANN_Close</th>\n",
              "    </tr>\n",
              "    <tr>\n",
              "      <th>Date</th>\n",
              "      <th></th>\n",
              "      <th></th>\n",
              "    </tr>\n",
              "  </thead>\n",
              "  <tbody>\n",
              "    <tr>\n",
              "      <th>2023-05-22</th>\n",
              "      <td>35.955002</td>\n",
              "      <td>35.105198</td>\n",
              "    </tr>\n",
              "    <tr>\n",
              "      <th>2023-05-24</th>\n",
              "      <td>33.724998</td>\n",
              "      <td>33.602875</td>\n",
              "    </tr>\n",
              "    <tr>\n",
              "      <th>2023-05-25</th>\n",
              "      <td>33.095001</td>\n",
              "      <td>33.153023</td>\n",
              "    </tr>\n",
              "    <tr>\n",
              "      <th>2023-05-26</th>\n",
              "      <td>34.544998</td>\n",
              "      <td>33.710556</td>\n",
              "    </tr>\n",
              "  </tbody>\n",
              "</table>\n",
              "</div>\n",
              "      <button class=\"colab-df-convert\" onclick=\"convertToInteractive('df-b10a5dfc-c852-468b-83d3-1866701434bf')\"\n",
              "              title=\"Convert this dataframe to an interactive table.\"\n",
              "              style=\"display:none;\">\n",
              "        \n",
              "  <svg xmlns=\"http://www.w3.org/2000/svg\" height=\"24px\"viewBox=\"0 0 24 24\"\n",
              "       width=\"24px\">\n",
              "    <path d=\"M0 0h24v24H0V0z\" fill=\"none\"/>\n",
              "    <path d=\"M18.56 5.44l.94 2.06.94-2.06 2.06-.94-2.06-.94-.94-2.06-.94 2.06-2.06.94zm-11 1L8.5 8.5l.94-2.06 2.06-.94-2.06-.94L8.5 2.5l-.94 2.06-2.06.94zm10 10l.94 2.06.94-2.06 2.06-.94-2.06-.94-.94-2.06-.94 2.06-2.06.94z\"/><path d=\"M17.41 7.96l-1.37-1.37c-.4-.4-.92-.59-1.43-.59-.52 0-1.04.2-1.43.59L10.3 9.45l-7.72 7.72c-.78.78-.78 2.05 0 2.83L4 21.41c.39.39.9.59 1.41.59.51 0 1.02-.2 1.41-.59l7.78-7.78 2.81-2.81c.8-.78.8-2.07 0-2.86zM5.41 20L4 18.59l7.72-7.72 1.47 1.35L5.41 20z\"/>\n",
              "  </svg>\n",
              "      </button>\n",
              "      \n",
              "  <style>\n",
              "    .colab-df-container {\n",
              "      display:flex;\n",
              "      flex-wrap:wrap;\n",
              "      gap: 12px;\n",
              "    }\n",
              "\n",
              "    .colab-df-convert {\n",
              "      background-color: #E8F0FE;\n",
              "      border: none;\n",
              "      border-radius: 50%;\n",
              "      cursor: pointer;\n",
              "      display: none;\n",
              "      fill: #1967D2;\n",
              "      height: 32px;\n",
              "      padding: 0 0 0 0;\n",
              "      width: 32px;\n",
              "    }\n",
              "\n",
              "    .colab-df-convert:hover {\n",
              "      background-color: #E2EBFA;\n",
              "      box-shadow: 0px 1px 2px rgba(60, 64, 67, 0.3), 0px 1px 3px 1px rgba(60, 64, 67, 0.15);\n",
              "      fill: #174EA6;\n",
              "    }\n",
              "\n",
              "    [theme=dark] .colab-df-convert {\n",
              "      background-color: #3B4455;\n",
              "      fill: #D2E3FC;\n",
              "    }\n",
              "\n",
              "    [theme=dark] .colab-df-convert:hover {\n",
              "      background-color: #434B5C;\n",
              "      box-shadow: 0px 1px 3px 1px rgba(0, 0, 0, 0.15);\n",
              "      filter: drop-shadow(0px 1px 2px rgba(0, 0, 0, 0.3));\n",
              "      fill: #FFFFFF;\n",
              "    }\n",
              "  </style>\n",
              "\n",
              "      <script>\n",
              "        const buttonEl =\n",
              "          document.querySelector('#df-b10a5dfc-c852-468b-83d3-1866701434bf button.colab-df-convert');\n",
              "        buttonEl.style.display =\n",
              "          google.colab.kernel.accessAllowed ? 'block' : 'none';\n",
              "\n",
              "        async function convertToInteractive(key) {\n",
              "          const element = document.querySelector('#df-b10a5dfc-c852-468b-83d3-1866701434bf');\n",
              "          const dataTable =\n",
              "            await google.colab.kernel.invokeFunction('convertToInteractive',\n",
              "                                                     [key], {});\n",
              "          if (!dataTable) return;\n",
              "\n",
              "          const docLinkHtml = 'Like what you see? Visit the ' +\n",
              "            '<a target=\"_blank\" href=https://colab.research.google.com/notebooks/data_table.ipynb>data table notebook</a>'\n",
              "            + ' to learn more about interactive tables.';\n",
              "          element.innerHTML = '';\n",
              "          dataTable['output_type'] = 'display_data';\n",
              "          await google.colab.output.renderOutput(dataTable, element);\n",
              "          const docLink = document.createElement('div');\n",
              "          docLink.innerHTML = docLinkHtml;\n",
              "          element.appendChild(docLink);\n",
              "        }\n",
              "      </script>\n",
              "    </div>\n",
              "  </div>\n",
              "  "
            ]
          },
          "metadata": {},
          "execution_count": 101
        }
      ]
    },
    {
      "cell_type": "code",
      "source": [],
      "metadata": {
        "id": "dPfdtama2a_d"
      },
      "execution_count": null,
      "outputs": []
    }
  ],
  "metadata": {
    "kernelspec": {
      "display_name": "Python 3 (ipykernel)",
      "language": "python",
      "name": "python3"
    },
    "language_info": {
      "codemirror_mode": {
        "name": "ipython",
        "version": 3
      },
      "file_extension": ".py",
      "mimetype": "text/x-python",
      "name": "python",
      "nbconvert_exporter": "python",
      "pygments_lexer": "ipython3",
      "version": "3.8.5"
    },
    "colab": {
      "provenance": [],
      "toc_visible": true,
      "include_colab_link": true
    }
  },
  "nbformat": 4,
  "nbformat_minor": 0
}